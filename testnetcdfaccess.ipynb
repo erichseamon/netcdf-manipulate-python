{
 "cells": [
  {
   "cell_type": "code",
   "execution_count": 35,
   "metadata": {
    "collapsed": false
   },
   "outputs": [
    {
     "ename": "SyntaxError",
     "evalue": "invalid syntax (<ipython-input-35-b61096381aae>, line 10)",
     "output_type": "error",
     "traceback": [
      "\u001b[1;36m  File \u001b[1;32m\"<ipython-input-35-b61096381aae>\"\u001b[1;36m, line \u001b[1;32m10\u001b[0m\n\u001b[1;33m    time = netcdf.Variable(%time);\u001b[0m\n\u001b[1;37m                           ^\u001b[0m\n\u001b[1;31mSyntaxError\u001b[0m\u001b[1;31m:\u001b[0m invalid syntax\n"
     ]
    }
   ],
   "source": [
    "import matplotlib\n",
    "%matplotlib nbagg\n",
    "\n",
    "from netCDF4 import Dataset\n",
    "import numpy as np\n",
    "\n",
    "myPath = 'http://inside-dev1.nkn.uidaho.edu:8080/thredds/dodsC/agg_macav2metdata_huss_bcc-csm1-1_r1i1p1_rcp85_2006_2099_CONUS_daily.nc'\n",
    "fh = Dataset(myPath, mode='r')\n",
    "\n",
    "time = netcdf();\n",
    "[Y,M,D]=datevec(time+datenum(1900,1,1));\n"
   ]
  },
  {
   "cell_type": "code",
   "execution_count": 10,
   "metadata": {
    "collapsed": false
   },
   "outputs": [
    {
     "name": "stdout",
     "output_type": "stream",
     "text": [
      "<type 'netCDF4._netCDF4.Dataset'>\n",
      "root group (NETCDF3_64BIT data model, file format UNDEFINED):\n",
      "    description: Multivariate Adaptive Constructed Analogs (MACA) method, version 2.3,Dec 2013.\n",
      "    id: MACAv2-METDATA\n",
      "    naming_authority: edu.uidaho.reacch\n",
      "    Metadata_Conventions: Unidata Dataset Discovery v1.0\n",
      "    Metadata_Link: \n",
      "    cdm_data_type: GRID\n",
      "    title: Downscaled daily meteorological data of Daily Mean Near-Surface Specific Humidity from Beijing Climate Center, China Meteorological Administration (bcc-csm1-1) using the run r1i1p1 of the rcp85 scenario.\n",
      "    summary: This archive contains daily downscaled meteorological and hydrological projections for the Conterminous United States at 1/24-deg resolution utilizing the Multivariate Adaptive Constructed Analogs (MACA, Abatzoglou, 2012) statistical downscaling method with the METDATA (Abatzoglou,2013) training dataset. The downscaled meteorological variables are maximum/minimum temperature(tasmax/tasmin), maximum/minimum relative humidity (rhsmax/rhsmin)precipitation amount(pr), downward shortwave solar radiation(rsds), eastward wind(uas), northward wind(vas), and specific humidity(huss). The downscaling is based on the 365-day model outputs from different global climate models (GCMs) from Phase 5 of the Coupled Model Inter-comparison Project (CMIP3) utlizing the historical (1950-2005) and future RCP4.5/8.5(2006-2099) scenarios. Leap days have been added to the dataset from the average values between Feb 28 and Mar 1 in order to aid modellers.\n",
      "    keywords: daily precipitation, daily maximum temperature, daily minimum temperature, daily downward shortwave solar radiation, daily specific humidity, daily wind velocity, CMIP5, Gridded Meteorological Data\n",
      "    keywords_vocabulary: \n",
      "    standard_name_vocabulary: CF-1.0\n",
      "    history: No revisions.\n",
      "    comment: Surface specific humidity\n",
      "    geospatial_bounds: POLYGON((-124.7722 25.0631,-124.7722 49.3960, -67.0648 49.3960,-67.0648, 25.0631, -124.7722,25.0631))\n",
      "    geospatial_lat_min: 25.0631\n",
      "    geospatial_lat_max: 49.3960\n",
      "    geospatial_lon_min: -124.7722\n",
      "    geospatial_lon_max: -67.0648\n",
      "    geospatial_lat_units: decimal degrees north\n",
      "    geospatial_lon_units: decimal degrees east\n",
      "    geospatial_lat_resolution: 0.0417\n",
      "    geospatial_lon_resolution: 0.0417\n",
      "    geospatial_vertical_min: 0.0\n",
      "    geospatial_vertical_max: 0.0\n",
      "    geospatial_vertical_resolution: 0.0\n",
      "    geospatial_vertical_positive: up\n",
      "    time_coverage_start: 2096-01-01T00:0\n",
      "    time_coverage_end: 2099-12-31T00:00\n",
      "    time_coverage_duration: P4Y\n",
      "    time_coverage_resolution: P1D\n",
      "    date_created: 2014-05-15\n",
      "    date_modified: 2014-05-15\n",
      "    date_issued: 2014-05-15\n",
      "    creator_name: John Abatzoglou\n",
      "    creator_url: http://maca.northwestknowledge.net\n",
      "    creator_email: jabatzoglou@uidaho.edu\n",
      "    institution: University of Idaho\n",
      "    processing_level: GRID\n",
      "    project: \n",
      "    contributor_name: Katherine C. Hegewisch\n",
      "    contributor_role: Postdoctoral Fellow\n",
      "    publisher_name: \n",
      "    publisher_email: \n",
      "    publisher_url: \n",
      "    license: Creative Commons CC0 1.0 Universal Dedication(http://creativecommons.org/publicdomain/zero/1.0/legalcode)\n",
      "    dimensions(sizes): crs(1), lat(585), lon(1386), time(34333)\n",
      "    variables(dimensions): float64 \u001b[4mlat\u001b[0m(lat), int32 \u001b[4mcrs\u001b[0m(crs), float64 \u001b[4mlon\u001b[0m(lon), float32 \u001b[4mtime\u001b[0m(time), float32 \u001b[4mspecific_humidity\u001b[0m(time,lat,lon)\n",
      "    groups: \n",
      "\n"
     ]
    }
   ],
   "source": [
    "print fh"
   ]
  },
  {
   "cell_type": "code",
   "execution_count": 11,
   "metadata": {
    "collapsed": false
   },
   "outputs": [
    {
     "name": "stdout",
     "output_type": "stream",
     "text": [
      "P4Y\n"
     ]
    }
   ],
   "source": [
    "print fh.time\n"
   ]
  },
  {
   "cell_type": "code",
   "execution_count": 15,
   "metadata": {
    "collapsed": false
   },
   "outputs": [],
   "source": [
    "time = fh.variables['time'][:]"
   ]
  },
  {
   "cell_type": "code",
   "execution_count": 14,
   "metadata": {
    "collapsed": false
   },
   "outputs": [
    {
     "name": "stdout",
     "output_type": "stream",
     "text": [
      "[ 38716.  38717.  38718. ...,  73046.  73047.  73048.]\n"
     ]
    }
   ],
   "source": [
    "print tmax"
   ]
  },
  {
   "cell_type": "code",
   "execution_count": 16,
   "metadata": {
    "collapsed": false
   },
   "outputs": [
    {
     "ename": "NameError",
     "evalue": "name 'datevec' is not defined",
     "output_type": "error",
     "traceback": [
      "\u001b[1;31m---------------------------------------------------------------------------\u001b[0m",
      "\u001b[1;31mNameError\u001b[0m                                 Traceback (most recent call last)",
      "\u001b[1;32m<ipython-input-16-ac53ab6806f6>\u001b[0m in \u001b[0;36m<module>\u001b[1;34m()\u001b[0m\n\u001b[1;32m----> 1\u001b[1;33m \u001b[1;33m[\u001b[0m\u001b[0mY\u001b[0m\u001b[1;33m,\u001b[0m\u001b[0mM\u001b[0m\u001b[1;33m,\u001b[0m\u001b[0mD\u001b[0m\u001b[1;33m]\u001b[0m\u001b[1;33m=\u001b[0m\u001b[0mdatevec\u001b[0m\u001b[1;33m(\u001b[0m\u001b[0mtime\u001b[0m\u001b[1;33m+\u001b[0m\u001b[0mdatenum\u001b[0m\u001b[1;33m(\u001b[0m\u001b[1;36m1900\u001b[0m\u001b[1;33m,\u001b[0m\u001b[1;36m1\u001b[0m\u001b[1;33m,\u001b[0m\u001b[1;36m1\u001b[0m\u001b[1;33m)\u001b[0m\u001b[1;33m)\u001b[0m\u001b[1;33m;\u001b[0m\u001b[1;33m\u001b[0m\u001b[0m\n\u001b[0m",
      "\u001b[1;31mNameError\u001b[0m: name 'datevec' is not defined"
     ]
    }
   ],
   "source": [
    "[Y,M,D]=datevec(time+datenum(1900,1,1));"
   ]
  },
  {
   "cell_type": "code",
   "execution_count": 24,
   "metadata": {
    "collapsed": true
   },
   "outputs": [],
   "source": [
    "from netCDF4 import Dataset\n",
    "import numpy as np"
   ]
  },
  {
   "cell_type": "code",
   "execution_count": 27,
   "metadata": {
    "collapsed": true
   },
   "outputs": [],
   "source": [
    "my_example_nc_file = 'http://inside-dev1.nkn.uidaho.edu:8080/thredds/dodsC/MET/pdur/pdur_2013.nc'"
   ]
  },
  {
   "cell_type": "code",
   "execution_count": 29,
   "metadata": {
    "collapsed": false
   },
   "outputs": [
    {
     "ename": "KeyError",
     "evalue": "'precipitation_duration_hours'",
     "output_type": "error",
     "traceback": [
      "\u001b[1;31m---------------------------------------------------------------------------\u001b[0m",
      "\u001b[1;31mKeyError\u001b[0m                                  Traceback (most recent call last)",
      "\u001b[1;32m<ipython-input-29-c029ad3ffa2a>\u001b[0m in \u001b[0;36m<module>\u001b[1;34m()\u001b[0m\n\u001b[0;32m      1\u001b[0m \u001b[0mlon\u001b[0m \u001b[1;33m=\u001b[0m \u001b[0mfh\u001b[0m\u001b[1;33m.\u001b[0m\u001b[0mvariables\u001b[0m\u001b[1;33m[\u001b[0m\u001b[1;34m'lon'\u001b[0m\u001b[1;33m]\u001b[0m\u001b[1;33m[\u001b[0m\u001b[1;33m:\u001b[0m\u001b[1;33m]\u001b[0m\u001b[1;33m\u001b[0m\u001b[0m\n\u001b[0;32m      2\u001b[0m \u001b[0mlat\u001b[0m \u001b[1;33m=\u001b[0m \u001b[0mfh\u001b[0m\u001b[1;33m.\u001b[0m\u001b[0mvariables\u001b[0m\u001b[1;33m[\u001b[0m\u001b[1;34m'lat'\u001b[0m\u001b[1;33m]\u001b[0m\u001b[1;33m[\u001b[0m\u001b[1;33m:\u001b[0m\u001b[1;33m]\u001b[0m\u001b[1;33m\u001b[0m\u001b[0m\n\u001b[1;32m----> 3\u001b[1;33m \u001b[0msphum\u001b[0m \u001b[1;33m=\u001b[0m \u001b[0mfh\u001b[0m\u001b[1;33m.\u001b[0m\u001b[0mvariables\u001b[0m\u001b[1;33m[\u001b[0m\u001b[1;34m'precipitation_duration_hours'\u001b[0m\u001b[1;33m]\u001b[0m\u001b[1;33m[\u001b[0m\u001b[1;33m:\u001b[0m\u001b[1;33m]\u001b[0m\u001b[1;33m\u001b[0m\u001b[0m\n\u001b[0m\u001b[0;32m      4\u001b[0m \u001b[1;33m\u001b[0m\u001b[0m\n\u001b[0;32m      5\u001b[0m \u001b[1;31m#sphum_units = fh.variables['sphum'].units\u001b[0m\u001b[1;33m\u001b[0m\u001b[1;33m\u001b[0m\u001b[0m\n",
      "\u001b[1;31mKeyError\u001b[0m: 'precipitation_duration_hours'"
     ]
    }
   ],
   "source": [
    "lon = fh.variables['lon'][:]\n",
    "lat = fh.variables['lat'][:]\n",
    "sphum = fh.variables['precipitation_duration_hours'][:]\n",
    "\n",
    "#sphum_units = fh.variables['sphum'].units"
   ]
  },
  {
   "cell_type": "code",
   "execution_count": null,
   "metadata": {
    "collapsed": true
   },
   "outputs": [],
   "source": [
    "fh.close()\n"
   ]
  },
  {
   "cell_type": "code",
   "execution_count": 31,
   "metadata": {
    "collapsed": false
   },
   "outputs": [
    {
     "data": {
      "text/plain": [
       "OrderedDict([(u'lat', <type 'netCDF4._netCDF4.Variable'>\n",
       "              float64 lat(lat)\n",
       "                  long_name: latitude\n",
       "                  standard_name: latitude\n",
       "                  units: degrees_north\n",
       "                  axis: Y\n",
       "                  description: Latitude of the center of the grid cell\n",
       "              unlimited dimensions: \n",
       "              current shape = (585,)\n",
       "              filling on, default _FillValue of 9.96920996839e+36 used),\n",
       "             (u'crs', <type 'netCDF4._netCDF4.Variable'>\n",
       "              int32 crs(crs)\n",
       "                  grid_mapping_name: latitude_longitude\n",
       "                  longitude_of_prime_meridian: 0.0\n",
       "                  semi_major_axis: 6378137.0\n",
       "                  inverse_flattening: 298.257223563\n",
       "              unlimited dimensions: \n",
       "              current shape = (1,)\n",
       "              filling on, default _FillValue of -2147483647 used),\n",
       "             (u'lon', <type 'netCDF4._netCDF4.Variable'>\n",
       "              float64 lon(lon)\n",
       "                  long_name: longitude\n",
       "                  standard_name: longitude\n",
       "                  units: degrees_east\n",
       "                  axis: X\n",
       "                  description: Longitude of the center of the grid cell\n",
       "              unlimited dimensions: \n",
       "              current shape = (1386,)\n",
       "              filling on, default _FillValue of 9.96920996839e+36 used),\n",
       "             (u'time', <type 'netCDF4._netCDF4.Variable'>\n",
       "              float32 time(time)\n",
       "                  units: days since 1900-01-01 00:00:00\n",
       "                  calendar: gregorian\n",
       "                  description: days since 1900-01-01\n",
       "              unlimited dimensions: \n",
       "              current shape = (34333,)\n",
       "              filling on, default _FillValue of 9.96920996839e+36 used),\n",
       "             (u'specific_humidity', <type 'netCDF4._netCDF4.Variable'>\n",
       "              float32 specific_humidity(time, lat, lon)\n",
       "                  _FillValue: -9999.0\n",
       "                  long_name: Daily Mean Near-Surface Specific Humidity\n",
       "                  units: kg kg-1\n",
       "                  grid_mapping: crs\n",
       "                  standard_name: specific_humidity\n",
       "                  height: 0 m\n",
       "                  cell_methods: time: mean(interval: 24 hours)\n",
       "                  comments: Surface specific humidity\n",
       "                  coordinates: time lon lat\n",
       "                  _ChunkSize: [139  55 132]\n",
       "              unlimited dimensions: \n",
       "              current shape = (34333, 585, 1386)\n",
       "              filling on)])"
      ]
     },
     "execution_count": 31,
     "metadata": {},
     "output_type": "execute_result"
    }
   ],
   "source": [
    "fh.variables"
   ]
  },
  {
   "cell_type": "code",
   "execution_count": null,
   "metadata": {
    "collapsed": true
   },
   "outputs": [],
   "source": [
    "import matplotlib.pyplot as plt\n",
    "from mpl_toolkits.basemap import Basemap"
   ]
  },
  {
   "cell_type": "code",
   "execution_count": null,
   "metadata": {
    "collapsed": true
   },
   "outputs": [],
   "source": [
    "# Get some parameters for the Stereographic Projection\n",
    "lon_0 = lons.mean()\n",
    "lat_0 = lats.mean()\n",
    "\n",
    "m = Basemap(width=5000000,height=3500000,\n",
    "            resolution='l',projection='stere',\\\n",
    "            lat_ts=40,lat_0=lat_0,lon_0=lon_0)"
   ]
  },
  {
   "cell_type": "code",
   "execution_count": null,
   "metadata": {
    "collapsed": true
   },
   "outputs": [],
   "source": [
    "# Because our lon and lat variables are 1D, \n",
    "# use meshgrid to create 2D arrays \n",
    "# Not necessary if coordinates are already in 2D arrays.\n",
    "lon, lat = np.meshgrid(lons, lats)\n",
    "xi, yi = m(lon, lat)"
   ]
  },
  {
   "cell_type": "code",
   "execution_count": null,
   "metadata": {
    "collapsed": true
   },
   "outputs": [],
   "source": [
    "# Plot Data\n",
    "cs = m.pcolor(xi,yi,np.squeeze(tmax))\n",
    "\n",
    "# Add Grid Lines\n",
    "m.drawparallels(np.arange(-80., 81., 10.), labels=[1,0,0,0], fontsize=10)\n",
    "m.drawmeridians(np.arange(-180., 181., 10.), labels=[0,0,0,1], fontsize=10)\n",
    "\n",
    "# Add Coastlines, States, and Country Boundaries\n",
    "m.drawcoastlines()\n",
    "m.drawstates()\n",
    "m.drawcountries()\n",
    "\n",
    "# Add Colorbar\n",
    "cbar = m.colorbar(cs, location='bottom', pad=\"10%\")\n",
    "cbar.set_label(tmax_units)\n",
    "\n",
    "# Add Title\n",
    "plt.title('DJF Maximum Temperature')\n",
    "\n",
    "plt.show()"
   ]
  }
 ],
 "metadata": {
  "kernelspec": {
   "display_name": "Python 2",
   "language": "python",
   "name": "python2"
  },
  "language_info": {
   "codemirror_mode": {
    "name": "ipython",
    "version": 2
   },
   "file_extension": ".py",
   "mimetype": "text/x-python",
   "name": "python",
   "nbconvert_exporter": "python",
   "pygments_lexer": "ipython2",
   "version": "2.7.10"
  }
 },
 "nbformat": 4,
 "nbformat_minor": 0
}
